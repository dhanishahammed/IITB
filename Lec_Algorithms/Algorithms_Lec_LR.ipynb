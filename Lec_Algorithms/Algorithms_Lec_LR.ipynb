{
  "nbformat": 4,
  "nbformat_minor": 0,
  "metadata": {
    "colab": {
      "provenance": []
    },
    "kernelspec": {
      "name": "python3",
      "display_name": "Python 3"
    },
    "language_info": {
      "name": "python"
    }
  },
  "cells": [
    {
      "cell_type": "code",
      "source": [
        "import numpy as np\n",
        "import pandas as pd\n",
        "from numpy.linalg import norm, inv, eigh\n",
        "from sklearn.preprocessing import StandardScaler\n",
        "from sklearn.model_selection import train_test_split\n",
        "from sklearn.metrics import mean_squared_error, r2_score\n",
        "\n",
        "data = pd.read_csv('/content/Real estate.csv', usecols=(2, 3, 4, 5, 6, 7))\n",
        "xdata = data[['X2 house age', 'X3 distance to the nearest MRT station', 'X4 number of convenience stores', 'X5 latitude', 'X6 longitude']]\n",
        "ydata = data['Y house price of unit area']\n",
        "\n",
        "scaler = StandardScaler()\n",
        "xdata_scaled = scaler.fit_transform(xdata)\n",
        "\n",
        "X = np.hstack([np.ones((xdata_scaled.shape[0], 1)), xdata_scaled])\n",
        "y = ydata.values"
      ],
      "metadata": {
        "id": "chHQUpccf2Wm"
      },
      "execution_count": 2,
      "outputs": []
    },
    {
      "cell_type": "code",
      "source": [
        "# Classical Newton's Method\n",
        "\n",
        "def f(x, X, y):\n",
        "  return 0.5 * np.sum((X @ x - y)**2)\n",
        "\n",
        "def grad_f(x, X, y):\n",
        "  return X.T @ (X @ x - y)\n",
        "\n",
        "def hessian_f(X):\n",
        "  return X.T @ X\n",
        "\n",
        "def newtons_method(x0, epsilon, X, y):\n",
        "  xk = x0\n",
        "  k = 0\n",
        "  max_iter = 1000\n",
        "  while norm(grad_f(xk, X, y)) > epsilon and k < max_iter:\n",
        "    Hk = hessian_f(X)\n",
        "    gk = grad_f(xk, X, y)\n",
        "    dk = -1 * inv(Hk) @ gk\n",
        "    alpha_k = 1\n",
        "    xk = xk + alpha_k * dk\n",
        "    k += 1\n",
        "  return xk\n",
        "\n",
        "x0 = np.zeros(X.shape[1])\n",
        "epsilon = 1e-6\n",
        "\n",
        "x_star = newtons_method(x0, epsilon, X, y)\n",
        "\n",
        "print(\"Optimal solution:\", x_star)\n"
      ],
      "metadata": {
        "colab": {
          "base_uri": "https://localhost:8080/",
          "height": 0
        },
        "id": "jZHmxoOHZAAr",
        "outputId": "adc87363-922c-4264-eb46-cc9ac5ed889b"
      },
      "execution_count": 61,
      "outputs": [
        {
          "output_type": "stream",
          "name": "stdout",
          "text": [
            "Optimal solution: [37.98019324 -3.05992858 -5.36894108  3.42160882  2.94717174 -0.11964695]\n"
          ]
        }
      ]
    },
    {
      "cell_type": "code",
      "source": [
        "#Modified newton\n",
        "\n",
        "def f(x, X, y):\n",
        "  return 0.5 * np.sum((X @ x - y)**2)\n",
        "\n",
        "def grad_f(x, X, y):\n",
        "  return X.T @ (X @ x - y)\n",
        "\n",
        "def hessian_reg(Hk, delta):\n",
        "  eigvals, _ = eigh(Hk)\n",
        "  min_eigval = np.min(eigvals)\n",
        "  if min_eigval >= delta:\n",
        "    return Hk\n",
        "  else:\n",
        "    return Hk + (delta - min_eigval) * np.eye(Hk.shape[0])\n",
        "\n",
        "def armijo_wolfe(xk, dk, X, y, fk, grad_fk, alpha_init=1.0, c1=1e-4, c2=0.9):\n",
        "  alpha = alpha_init\n",
        "  while alpha > 1e-10:\n",
        "    x_next = xk + alpha * dk\n",
        "    fk_next = f(x_next, X, y)\n",
        "    phi1_alpha = fk + c1 * alpha * grad_fk @ dk\n",
        "\n",
        "    if fk_next <= phi1_alpha:\n",
        "      grad_fk_next = grad_f(x_next, X, y)\n",
        "      phi1_prime_alpha = grad_fk.T @ dk\n",
        "      phi1_prime_alpha_next = grad_fk_next @ dk\n",
        "\n",
        "      if phi1_prime_alpha_next >= c2 * phi1_prime_alpha:\n",
        "        return alpha\n",
        "\n",
        "    alpha *= 0.5\n",
        "\n",
        "  return alpha\n",
        "\n",
        "def modified_newtons_method(x0, epsilon, delta, X, y):\n",
        "    xk = x0\n",
        "    k = 0\n",
        "    max_iter = 1000\n",
        "    while norm(grad_f(xk, X, y)) > epsilon and k < max_iter:\n",
        "        Hk = X.T @ X\n",
        "        gk = grad_f(xk, X, y)\n",
        "        Hk_reg = hessian_reg(Hk, delta)\n",
        "        dk = -1 * inv(Hk_reg) @ gk\n",
        "        alpha_k = armijo_wolfe(xk, dk, X, y, f(xk, X, y), gk)\n",
        "        xk = xk + alpha_k * dk\n",
        "        k += 1\n",
        "\n",
        "    return xk\n",
        "\n",
        "x0 = np.zeros(X.shape[1])\n",
        "epsilon = 1e-6\n",
        "delta = 1e-3\n",
        "x_star = modified_newtons_method(x0, epsilon, delta, X, y)\n",
        "\n",
        "print(\"Optimal solution:\", x_star)"
      ],
      "metadata": {
        "colab": {
          "base_uri": "https://localhost:8080/",
          "height": 0
        },
        "id": "KT7wByAbe_cH",
        "outputId": "53a8ea83-af3e-4ecf-c79b-9c0e25ae310e"
      },
      "execution_count": 62,
      "outputs": [
        {
          "output_type": "stream",
          "name": "stdout",
          "text": [
            "Optimal solution: [37.98019324 -3.05992858 -5.36894108  3.42160882  2.94717174 -0.11964695]\n"
          ]
        }
      ]
    },
    {
      "cell_type": "code",
      "source": [
        "#Modified Using Trust region\n",
        "\n",
        "def f(x, X, y):\n",
        "  return 0.5 * np.sum((X @ x - y)**2)\n",
        "\n",
        "def grad_f(x, X, y):\n",
        "  return X.T @ (X @ x - y)\n",
        "\n",
        "def hessian_f(X):\n",
        "  return X.T @ X\n",
        "\n",
        "def trust_region_newton(x0, epsilon, Delta_0, X, y):\n",
        "  xk = x0\n",
        "  Delta_k = Delta_0\n",
        "  k = 0\n",
        "  max_iter = 1000\n",
        "\n",
        "  while norm(grad_f(xk, X, y)) > epsilon and k < max_iter:\n",
        "    Omega_k = np.linalg.norm(xk - X) <= Delta_k\n",
        "    pk = -inv(hessian_f(X)) @ grad_f(xk, X, y)\n",
        "    x_next = xk + pk\n",
        "    actual_reduction = f(xk, X, y) - f(x_next, X, y)\n",
        "    predicted_reduction = -grad_f(xk, X, y).T @ pk - 0.5 * pk.T @ hessian_f(X) @ pk\n",
        "    Rk = actual_reduction / predicted_reduction\n",
        "    if Rk < 0.25:\n",
        "      Delta_k = 0.5 * Delta_k\n",
        "    elif Rk > 0.75 and np.linalg.norm(x_next - xk) == Delta_k:\n",
        "      Delta_k = min(2 * Delta_k, Delta_0)\n",
        "    else:\n",
        "      Delta_k = Delta_k\n",
        "    xk = x_next\n",
        "    k += 1\n",
        "\n",
        "  return xk\n",
        "\n",
        "x0 = np.zeros(X.shape[1])\n",
        "epsilon = 1e-6\n",
        "Delta_0 = 0.1\n",
        "\n",
        "x_star = trust_region_newton(x0, epsilon, Delta_0, X, y)\n",
        "print(\"Optimal solution:\", x_star)"
      ],
      "metadata": {
        "colab": {
          "base_uri": "https://localhost:8080/",
          "height": 0
        },
        "id": "Aaq8dt2Ke_vt",
        "outputId": "be26375b-6a2c-4134-c8da-2ed0f8202817"
      },
      "execution_count": 63,
      "outputs": [
        {
          "output_type": "stream",
          "name": "stdout",
          "text": [
            "Optimal solution: [37.98019324 -3.05992858 -5.36894108  3.42160882  2.94717174 -0.11964695]\n"
          ]
        }
      ]
    },
    {
      "cell_type": "code",
      "source": [
        "#SD\n",
        "\n",
        "def f(x, X, y):\n",
        "  return 0.5 * np.sum((X @ x - y)**2)\n",
        "\n",
        "def grad_f(x, X, y):\n",
        "  return X.T @ (X @ x - y)\n",
        "\n",
        "def armijo_wolfe(xk, dk, X, y, fk, grad_fk, alpha_init=1.0, c1=1e-4, c2=0.9):\n",
        "  alpha = alpha_init\n",
        "  while alpha > 1e-10:\n",
        "    x_next = xk + alpha * dk\n",
        "    fk_next = f(x_next, X, y)\n",
        "    phi1_alpha = fk + c1 * alpha * grad_fk @ dk\n",
        "\n",
        "    if fk_next <= phi1_alpha:\n",
        "      grad_fk_next = grad_f(x_next, X, y)\n",
        "      phi1_prime_alpha = grad_fk.T @ dk\n",
        "      phi1_prime_alpha_next = grad_fk_next.T @ dk\n",
        "\n",
        "      if phi1_prime_alpha_next >= c2 * phi1_prime_alpha:\n",
        "        return alpha\n",
        "\n",
        "    alpha *= 0.5\n",
        "\n",
        "  return alpha\n",
        "\n",
        "def steepest_descent(x0, epsilon, X, y):\n",
        "  xk = x0\n",
        "  k = 0\n",
        "  max_iter = 100\n",
        "\n",
        "  while norm(grad_f(xk, X, y)) > epsilon and k < max_iter:\n",
        "    gk = grad_f(xk, X, y)\n",
        "    dk = -gk\n",
        "    alpha_k = armijo_wolfe(xk, dk, X, y, f(xk, X, y), gk)\n",
        "    xk = xk + alpha_k * dk\n",
        "    k += 1\n",
        "\n",
        "  return xk\n",
        "\n",
        "x0 = np.zeros(X.shape[1])\n",
        "epsilon = 1e-6\n",
        "\n",
        "x_star = steepest_descent(x0, epsilon, X, y)\n",
        "print(\"Optimal solution:\", x_star)"
      ],
      "metadata": {
        "colab": {
          "base_uri": "https://localhost:8080/",
          "height": 0
        },
        "id": "fDRFVCvbhlxu",
        "outputId": "26ef84d6-e056-4972-a852-2971000954c6"
      },
      "execution_count": 64,
      "outputs": [
        {
          "output_type": "stream",
          "name": "stdout",
          "text": [
            "Optimal solution: [37.98019324 -3.05992858 -5.36894107  3.42160882  2.94717173 -0.11964695]\n"
          ]
        }
      ]
    },
    {
      "cell_type": "code",
      "source": [
        "#quasi\n",
        "\n",
        "def f(x, X, y):\n",
        "  return 0.5 * np.sum((X @ x - y)**2)\n",
        "\n",
        "def grad_f(x, X, y):\n",
        "  return X.T @ (X @ x - y)\n",
        "\n",
        "def armijo_wolfe(xk, dk, X, y, fk, grad_fk, alpha_init=1.0, c1=1e-4, c2=0.9):\n",
        "  alpha = alpha_init\n",
        "  while alpha > 1e-10:\n",
        "    x_next = xk + alpha * dk\n",
        "    fk_next = f(x_next, X, y)\n",
        "    phi1_alpha = fk + c1 * alpha * grad_fk @ dk\n",
        "\n",
        "    if fk_next <= phi1_alpha:\n",
        "      grad_fk_next = grad_f(x_next, X, y)\n",
        "      phi1_prime_alpha = grad_fk.T @ dk\n",
        "      phi1_prime_alpha_next = grad_fk_next.T @ dk\n",
        "\n",
        "      if phi1_prime_alpha_next >= c2 * phi1_prime_alpha:\n",
        "        return alpha\n",
        "\n",
        "    alpha *= 0.5\n",
        "\n",
        "  return alpha\n",
        "\n",
        "def quasi_newton_sr1(x0, epsilon, X, y):\n",
        "  xk = x0\n",
        "  k = 0\n",
        "  max_iter = 1000\n",
        "  n = len(x0)\n",
        "  Bk = np.eye(n)\n",
        "  while norm(grad_f(xk, X, y)) > epsilon and k < max_iter:\n",
        "    gk = grad_f(xk, X, y)\n",
        "    dk = -Bk @ gk\n",
        "    alpha_k = armijo_wolfe(xk, dk, X, y, f(xk, X, y), gk)\n",
        "    x_next = xk + alpha_k * dk\n",
        "    delta_k = x_next - xk\n",
        "    xk = x_next\n",
        "    gk_next = grad_f(xk, X, y)\n",
        "    gamma_k = gk_next - gk\n",
        "\n",
        "    BG = Bk @ gamma_k\n",
        "    numer = (delta_k - BG) @ ((delta_k - BG).T)\n",
        "    denom = ((delta_k - BG).T) @ gamma_k\n",
        "    frac = numer / denom\n",
        "    B_next = Bk + frac\n",
        "    k += 1\n",
        "\n",
        "  return xk\n",
        "\n",
        "x0 = np.zeros(X.shape[1])\n",
        "epsilon = 1e-6\n",
        "x_star = quasi_newton_sr1(x0, epsilon, X, y)\n",
        "\n",
        "print(\"Optimal solution:\", x_star)"
      ],
      "metadata": {
        "colab": {
          "base_uri": "https://localhost:8080/",
          "height": 0
        },
        "outputId": "530d64cb-edaa-4989-edcf-6fdbda36c7b5",
        "id": "1Zv0apUU0wRJ"
      },
      "execution_count": 10,
      "outputs": [
        {
          "output_type": "stream",
          "name": "stdout",
          "text": [
            "Optimal solution: [37.98019324 -3.05992858 -5.36894107  3.42160882  2.94717173 -0.11964695]\n"
          ]
        }
      ]
    }
  ]
}