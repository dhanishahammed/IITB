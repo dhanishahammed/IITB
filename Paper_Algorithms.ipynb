{
  "nbformat": 4,
  "nbformat_minor": 0,
  "metadata": {
    "colab": {
      "provenance": []
    },
    "kernelspec": {
      "name": "python3",
      "display_name": "Python 3"
    },
    "language_info": {
      "name": "python"
    }
  },
  "cells": [
    {
      "cell_type": "code",
      "execution_count": 1,
      "metadata": {
        "id": "Bjq1uztO8XcE"
      },
      "outputs": [],
      "source": [
        "import numpy as np\n",
        "from sklearn.datasets import load_iris\n",
        "from sklearn.model_selection import train_test_split\n",
        "from sklearn.metrics import mean_squared_error\n",
        "from sklearn.preprocessing import StandardScaler\n",
        "from sklearn.metrics import accuracy_score"
      ]
    },
    {
      "cell_type": "code",
      "source": [
        "iris = load_iris()\n",
        "X = iris.data\n",
        "y = (iris.target == 0).astype(float)\n",
        "scaler = StandardScaler()\n",
        "X = scaler.fit_transform(X)\n",
        "X_train, X_test, y_train, y_test = train_test_split(X, y, test_size = 0.2, random_state = 1)"
      ],
      "metadata": {
        "id": "Y5RHgozW8dYm"
      },
      "execution_count": 2,
      "outputs": []
    },
    {
      "cell_type": "markdown",
      "source": [
        "###Algorithm 1 - AcceleratedAlternatingMinimization(AAM)"
      ],
      "metadata": {
        "id": "OMA6Rhwa8i8O"
      }
    },
    {
      "cell_type": "code",
      "source": [
        "def f(x):\n",
        "  return 0.5 * np.sum((X_train @ x - y_train) ** 2)\n",
        "\n",
        "def grad_f(x):\n",
        "  return X_train.T @ (X_train @ x - y_train)\n",
        "\n",
        "def backtracking_line_search(f, grad, x, dk, alpha = 0.1, gamma = 0.8):\n",
        "  beta_k = 1\n",
        "  while f(x + beta_k * dk) > f(x) + alpha * beta_k * grad.T @ dk:\n",
        "    beta_k *= gamma\n",
        "  return beta_k\n",
        "\n",
        "def minimize_subspace(f, grad_f, y_k, i_k, tol = 1e-6, max_iter=100):\n",
        "  x_k = y_k.copy()\n",
        "  for j in range(max_iter):\n",
        "    grad = grad_f(x_k)\n",
        "    dk = np.zeros_like(x_k)\n",
        "    dk[i_k] = -grad[i_k]\n",
        "    beta_k = backtracking_line_search(f, grad, x_k, dk)\n",
        "    x_k += beta_k * dk\n",
        "\n",
        "    if abs(grad[i_k]) < tol:\n",
        "      break\n",
        "  return x_k"
      ],
      "metadata": {
        "id": "XS68MZjXO5H8"
      },
      "execution_count": 6,
      "outputs": []
    },
    {
      "cell_type": "code",
      "source": [
        "def aam(f, grad_f, x0, v0):\n",
        "  max_iter = 1000\n",
        "  tol = 1e-6\n",
        "  x = x0\n",
        "  v = v0\n",
        "  A = 0\n",
        "  a = 1\n",
        "  for k in range(max_iter):\n",
        "    g_k = grad_f(x)\n",
        "    dk = v - x\n",
        "    beta_k = backtracking_line_search(f, g_k, x, dk)\n",
        "    beta_k = np.clip(beta_k, 0, 1)\n",
        "    y_k = x + beta_k * dk\n",
        "    g_k = grad_f(y_k)\n",
        "    i_k = np.argmax(g_k ** 2)\n",
        "    x_k = minimize_subspace(f, grad_f, y_k, i_k)\n",
        "\n",
        "    norm_grad_squared = np.linalg.norm(g_k) ** 2\n",
        "    A_k_plus_1 = A+a\n",
        "    a_k_plus_1 = np.sqrt(2 * A_k_plus_1 * (f(y_k) - f(x_k)) / norm_grad_squared)\n",
        "    v = v - a_k_plus_1 * g_k\n",
        "    x = x_k\n",
        "    A = A_k_plus_1\n",
        "    a = a_k_plus_1\n",
        "\n",
        "    if np.linalg.norm(g_k) < tol:\n",
        "      print(f\"converged in {k+1} iterations\")\n",
        "      break\n",
        "\n",
        "  return x\n",
        "\n",
        "x0 = np.random.randn(X_train.shape[1])\n",
        "v0 = np.zeros_like(x0)\n",
        "x_opt = aam(f, grad_f, x0, v0)\n",
        "y_pred = (X_test @ x_opt > 0.5).astype(float)\n",
        "accuracy = accuracy_score(y_test, y_pred)\n",
        "mse = mean_squared_error(y_test, y_pred)\n",
        "\n",
        "\n",
        "print(f\"Optimal x: {x_opt}\")\n",
        "print(f\"Test Accuracy: {accuracy}\")\n",
        "print(f\"Test MSE: {mse}\")"
      ],
      "metadata": {
        "colab": {
          "base_uri": "https://localhost:8080/"
        },
        "id": "ZYTlPzXd9KsE",
        "outputId": "ad97c761-3d59-486c-a27e-36e2629a79f3"
      },
      "execution_count": 7,
      "outputs": [
        {
          "output_type": "stream",
          "name": "stdout",
          "text": [
            "converged in 546 iterations\n",
            "Optimal x: [ 0.03612809  0.0795792  -0.38180882 -0.04072795]\n",
            "Test Accuracy: 0.9666666666666667\n",
            "Test MSE: 0.03333333333333333\n"
          ]
        }
      ]
    },
    {
      "cell_type": "markdown",
      "source": [
        "###Algorithm 2 - Primal-DualAAM"
      ],
      "metadata": {
        "id": "O0w8yCeR-ZyX"
      }
    },
    {
      "cell_type": "code",
      "source": [
        "def f(x):\n",
        "  return 0.5 * np.sum((X_train @ x - y_train) ** 2)\n",
        "\n",
        "def grad_f(x):\n",
        "  return X_train.T @ (X_train @ x - y_train)\n",
        "\n",
        "def phi(lambda_):\n",
        "  return 0.5 * np.sum((X_train @ lambda_ - y_train) ** 2)\n",
        "\n",
        "def grad_phi(lambda_):\n",
        "  return X_train.T @ (X_train @ lambda_ - y_train)\n",
        "\n",
        "def backtracking_line_search(f, grad, x, d, alpha=0.1, gamma=0.8):\n",
        "  beta_k = 1\n",
        "  while f(x + beta_k * d) > f(x) + alpha * beta_k * grad.T @ d:\n",
        "    beta_k *= gamma\n",
        "  return beta_k\n",
        "def minimize_subspace(f, grad_f, x, i, tol=1e-6, max_iter=1000):\n",
        "  x_k = x.copy()\n",
        "  for j in range(max_iter):\n",
        "    g = grad_f(x_k)\n",
        "    d = np.zeros_like(x_k)\n",
        "    d[i] = -g[i]\n",
        "    beta_k = backtracking_line_search(f, g, x_k, d)\n",
        "    x_k += beta_k * d\n",
        "    if abs(g[i]) < tol:\n",
        "      break\n",
        "  return x_k"
      ],
      "metadata": {
        "id": "mA4O1CRsPA-E"
      },
      "execution_count": 8,
      "outputs": []
    },
    {
      "cell_type": "code",
      "source": [
        "def primaldual(f, grad_f, phi, grad_phi, x0, zeta0):\n",
        "  max_iter = 1000\n",
        "  tol = 1e-6\n",
        "  x_k = x0\n",
        "  zeta_k = zeta0\n",
        "  A_k = 0\n",
        "  a_k = 1\n",
        "  eta_k = np.zeros_like(x_k)\n",
        "  x_hat_k = x0\n",
        "\n",
        "  for k in range(max_iter):\n",
        "    g_k = grad_f(x_k)\n",
        "    d_k = zeta_k - eta_k\n",
        "    beta_k = backtracking_line_search(f, g_k, eta_k, d_k)\n",
        "    beta_k = np.clip(beta_k, 0, 1)\n",
        "    y_k = x_k + beta_k * d_k\n",
        "    lambda_k = beta_k * zeta_k + (1 - beta_k) * eta_k\n",
        "    g_lambda_k = grad_phi(lambda_k)\n",
        "    i_k = np.argmax(g_lambda_k ** 2)\n",
        "    x_k = minimize_subspace(f, grad_f, y_k, i_k)\n",
        "    eta_k_plus_1 = minimize_subspace(phi, grad_phi, lambda_k, i_k)\n",
        "    A_k_plus_1 = A_k + a_k\n",
        "    norm_grad_squared = np.linalg.norm(g_lambda_k) ** 2\n",
        "    a_k_plus_1 = np.sqrt(2 * A_k_plus_1 * (f(lambda_k) - f(eta_k_plus_1)) / norm_grad_squared)\n",
        "    zeta_k = zeta_k - a_k_plus_1 * g_lambda_k\n",
        "    x_hat_k_plus_1 = (a_k_plus_1 * lambda_k + A_k * x_hat_k) / A_k_plus_1\n",
        "    x_k = x_k\n",
        "    A_k = A_k_plus_1\n",
        "    a_k = a_k_plus_1\n",
        "    eta_k = eta_k_plus_1\n",
        "\n",
        "    if np.linalg.norm(g_lambda_k) < tol:\n",
        "      print(f\"Converged in {k+1} iterations\")\n",
        "      break\n",
        "\n",
        "  return x_k, eta_k\n",
        "\n",
        "x0 = np.random.randn(X_train.shape[1])\n",
        "zeta0 = np.zeros_like(x0)\n",
        "\n",
        "x_opt, eta_opt = primaldual(f, grad_f, phi, grad_phi, x0, zeta0)\n",
        "y_pred = (X_test @ x_opt > 0.5).astype(float)\n",
        "accuracy = accuracy_score(y_test, y_pred)\n",
        "mse = mean_squared_error(y_test, y_pred)\n",
        "\n",
        "print(f\"Optimal x: {x_opt}\")\n",
        "print(f\"Optimal eta: {eta_opt}\")\n",
        "print(f\"Test Accuracy: {accuracy}\")\n",
        "print(f\"Test MSE: {mse}\")"
      ],
      "metadata": {
        "colab": {
          "base_uri": "https://localhost:8080/"
        },
        "id": "wssCQNUD8imT",
        "outputId": "13acafda-ca85-468b-b775-361abf58be10"
      },
      "execution_count": 9,
      "outputs": [
        {
          "output_type": "stream",
          "name": "stdout",
          "text": [
            "Optimal x: [ 0.0361173   0.07958428 -0.38177948 -0.04074548]\n",
            "Optimal eta: [ 0.03612725  0.07957958 -0.38180656 -0.04072929]\n",
            "Test Accuracy: 0.9666666666666667\n",
            "Test MSE: 0.03333333333333333\n"
          ]
        }
      ]
    }
  ]
}